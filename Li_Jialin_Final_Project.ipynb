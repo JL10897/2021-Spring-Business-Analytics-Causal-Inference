{
 "metadata": {
  "language_info": {
   "codemirror_mode": {
    "name": "ipython",
    "version": 3
   },
   "file_extension": ".py",
   "mimetype": "text/x-python",
   "name": "python",
   "nbconvert_exporter": "python",
   "pygments_lexer": "ipython3",
   "version": "3.7.7"
  },
  "orig_nbformat": 2,
  "kernelspec": {
   "name": "python377jvsc74a57bd0cb421fcbfbaf0104cacf837c3c93e5a1272efcec6efbfe33617a554fafda64f9",
   "display_name": "Python 3.7.7 64-bit"
  },
  "metadata": {
   "interpreter": {
    "hash": "cb421fcbfbaf0104cacf837c3c93e5a1272efcec6efbfe33617a554fafda64f9"
   }
  }
 },
 "nbformat": 4,
 "nbformat_minor": 2,
 "cells": [
  {
   "cell_type": "code",
   "execution_count": 30,
   "metadata": {},
   "outputs": [],
   "source": [
    "# Import Package\n",
    "import numpy as np\n",
    "import pandas as pd\n",
    "import statsmodels.api as sm"
   ]
  },
  {
   "source": [
    "# Data Preparation"
   ],
   "cell_type": "markdown",
   "metadata": {}
  },
  {
   "cell_type": "code",
   "execution_count": 31,
   "metadata": {},
   "outputs": [
    {
     "output_type": "stream",
     "name": "stdout",
     "text": [
      "<class 'pandas.core.frame.DataFrame'>\nInt64Index: 74922 entries, 0 to 74921\nData columns (total 22 columns):\n #   Column             Non-Null Count  Dtype         \n---  ------             --------------  -----         \n 0   person_id          74922 non-null  float32       \n 1   household_id       74922 non-null  float32       \n 2   treatment          74922 non-null  category      \n 3   draw_treat         29834 non-null  category      \n 4   draw_lottery       74922 non-null  category      \n 5   applied_app        29799 non-null  category      \n 6   approved_app       29799 non-null  category      \n 7   dt_notify_lottery  74922 non-null  category      \n 8   dt_retro_coverage  74922 non-null  datetime64[ns]\n 9   dt_app_decision    18101 non-null  datetime64[ns]\n 10  postn_death        74922 non-null  category      \n 11  numhh_list         74922 non-null  category      \n 12  birthyear_list     74922 non-null  int16         \n 13  have_phone_list    74922 non-null  category      \n 14  english_list       74922 non-null  category      \n 15  female_list        74921 non-null  category      \n 16  first_day_list     74922 non-null  category      \n 17  last_day_list      74922 non-null  category      \n 18  pobox_list         74922 non-null  category      \n 19  self_list          74922 non-null  category      \n 20  week_list          74922 non-null  category      \n 21  zip_msa_list       74920 non-null  category      \ndtypes: category(17), datetime64[ns](2), float32(2), int16(1)\nmemory usage: 3.6 MB\n"
     ]
    }
   ],
   "source": [
    "# Pre-treatment Data: Signing up\n",
    "des=pd.read_stata(\"oregonhie_descriptive_vars.dta\")\n",
    "des.info()"
   ]
  },
  {
   "cell_type": "code",
   "execution_count": 32,
   "metadata": {},
   "outputs": [
    {
     "output_type": "execute_result",
     "data": {
      "text/plain": [
       "   person_id     treatment      numhh_list  birthyear_list female_list  \\\n",
       "0        1.0      Selected  signed self up            1978     0: Male   \n",
       "1        2.0      Selected  signed self up            1984   1: Female   \n",
       "2        3.0  Not selected  signed self up            1971   1: Female   \n",
       "3        4.0  Not selected  signed self up            1955   1: Female   \n",
       "4        5.0      Selected  signed self up            1969   1: Female   \n",
       "\n",
       "                                        english_list    have_phone_list  \\\n",
       "0                        Requested English materials  Gave Phone Number   \n",
       "1                        Requested English materials  Gave Phone Number   \n",
       "2                        Requested English materials  Gave Phone Number   \n",
       "3                        Requested English materials  Gave Phone Number   \n",
       "4  Requested materials in language other than eng...  Gave Phone Number   \n",
       "\n",
       "                                  first_day_list    pobox_list       self_list  \n",
       "0  Did NOT sign up for lottery list on first day      1: POBOX  Signed self up  \n",
       "1  Did NOT sign up for lottery list on first day  0: Not POBOX  Signed self up  \n",
       "2  Did NOT sign up for lottery list on first day  0: Not POBOX  Signed self up  \n",
       "3  Did NOT sign up for lottery list on first day  0: Not POBOX  Signed self up  \n",
       "4  Did NOT sign up for lottery list on first day  0: Not POBOX  Signed self up  "
      ],
      "text/html": "<div>\n<style scoped>\n    .dataframe tbody tr th:only-of-type {\n        vertical-align: middle;\n    }\n\n    .dataframe tbody tr th {\n        vertical-align: top;\n    }\n\n    .dataframe thead th {\n        text-align: right;\n    }\n</style>\n<table border=\"1\" class=\"dataframe\">\n  <thead>\n    <tr style=\"text-align: right;\">\n      <th></th>\n      <th>person_id</th>\n      <th>treatment</th>\n      <th>numhh_list</th>\n      <th>birthyear_list</th>\n      <th>female_list</th>\n      <th>english_list</th>\n      <th>have_phone_list</th>\n      <th>first_day_list</th>\n      <th>pobox_list</th>\n      <th>self_list</th>\n    </tr>\n  </thead>\n  <tbody>\n    <tr>\n      <th>0</th>\n      <td>1.0</td>\n      <td>Selected</td>\n      <td>signed self up</td>\n      <td>1978</td>\n      <td>0: Male</td>\n      <td>Requested English materials</td>\n      <td>Gave Phone Number</td>\n      <td>Did NOT sign up for lottery list on first day</td>\n      <td>1: POBOX</td>\n      <td>Signed self up</td>\n    </tr>\n    <tr>\n      <th>1</th>\n      <td>2.0</td>\n      <td>Selected</td>\n      <td>signed self up</td>\n      <td>1984</td>\n      <td>1: Female</td>\n      <td>Requested English materials</td>\n      <td>Gave Phone Number</td>\n      <td>Did NOT sign up for lottery list on first day</td>\n      <td>0: Not POBOX</td>\n      <td>Signed self up</td>\n    </tr>\n    <tr>\n      <th>2</th>\n      <td>3.0</td>\n      <td>Not selected</td>\n      <td>signed self up</td>\n      <td>1971</td>\n      <td>1: Female</td>\n      <td>Requested English materials</td>\n      <td>Gave Phone Number</td>\n      <td>Did NOT sign up for lottery list on first day</td>\n      <td>0: Not POBOX</td>\n      <td>Signed self up</td>\n    </tr>\n    <tr>\n      <th>3</th>\n      <td>4.0</td>\n      <td>Not selected</td>\n      <td>signed self up</td>\n      <td>1955</td>\n      <td>1: Female</td>\n      <td>Requested English materials</td>\n      <td>Gave Phone Number</td>\n      <td>Did NOT sign up for lottery list on first day</td>\n      <td>0: Not POBOX</td>\n      <td>Signed self up</td>\n    </tr>\n    <tr>\n      <th>4</th>\n      <td>5.0</td>\n      <td>Selected</td>\n      <td>signed self up</td>\n      <td>1969</td>\n      <td>1: Female</td>\n      <td>Requested materials in language other than eng...</td>\n      <td>Gave Phone Number</td>\n      <td>Did NOT sign up for lottery list on first day</td>\n      <td>0: Not POBOX</td>\n      <td>Signed self up</td>\n    </tr>\n  </tbody>\n</table>\n</div>"
     },
     "metadata": {},
     "execution_count": 32
    }
   ],
   "source": [
    "# Keeping: demographical information: numhh_list/ birthyear_list(Older people tend to devote more into insurance while younger may not)/ female_list / english_list/ have_phone_list(not pretty sure though)/ first_day_list /pobox_list\n",
    "\n",
    "# Dropping: household_id / information about lottery drawing / information about application / date*3 / poastn_death / week\n",
    "des_2=des[[\"person_id\",\"treatment\",\"numhh_list\",\"birthyear_list\",\"female_list\",\"english_list\",\"have_phone_list\",\"first_day_list\",\"pobox_list\",\"self_list\"]]\n",
    "\n",
    "des_2.head()"
   ]
  },
  {
   "cell_type": "code",
   "execution_count": 33,
   "metadata": {},
   "outputs": [],
   "source": [
    "pd.options.mode.chained_assignment = None"
   ]
  },
  {
   "cell_type": "code",
   "execution_count": 34,
   "metadata": {},
   "outputs": [
    {
     "output_type": "execute_result",
     "data": {
      "text/plain": [
       "   person_id  treatment      numhh_list  birthyear_list female_list  \\\n",
       "0        1.0          1  signed self up            1978     0: Male   \n",
       "1        2.0          1  signed self up            1984   1: Female   \n",
       "2        3.0          0  signed self up            1971   1: Female   \n",
       "3        4.0          0  signed self up            1955   1: Female   \n",
       "4        5.0          1  signed self up            1969   1: Female   \n",
       "\n",
       "                                        english_list    have_phone_list  \\\n",
       "0                        Requested English materials  Gave Phone Number   \n",
       "1                        Requested English materials  Gave Phone Number   \n",
       "2                        Requested English materials  Gave Phone Number   \n",
       "3                        Requested English materials  Gave Phone Number   \n",
       "4  Requested materials in language other than eng...  Gave Phone Number   \n",
       "\n",
       "                                  first_day_list    pobox_list       self_list  \n",
       "0  Did NOT sign up for lottery list on first day      1: POBOX  Signed self up  \n",
       "1  Did NOT sign up for lottery list on first day  0: Not POBOX  Signed self up  \n",
       "2  Did NOT sign up for lottery list on first day  0: Not POBOX  Signed self up  \n",
       "3  Did NOT sign up for lottery list on first day  0: Not POBOX  Signed self up  \n",
       "4  Did NOT sign up for lottery list on first day  0: Not POBOX  Signed self up  "
      ],
      "text/html": "<div>\n<style scoped>\n    .dataframe tbody tr th:only-of-type {\n        vertical-align: middle;\n    }\n\n    .dataframe tbody tr th {\n        vertical-align: top;\n    }\n\n    .dataframe thead th {\n        text-align: right;\n    }\n</style>\n<table border=\"1\" class=\"dataframe\">\n  <thead>\n    <tr style=\"text-align: right;\">\n      <th></th>\n      <th>person_id</th>\n      <th>treatment</th>\n      <th>numhh_list</th>\n      <th>birthyear_list</th>\n      <th>female_list</th>\n      <th>english_list</th>\n      <th>have_phone_list</th>\n      <th>first_day_list</th>\n      <th>pobox_list</th>\n      <th>self_list</th>\n    </tr>\n  </thead>\n  <tbody>\n    <tr>\n      <th>0</th>\n      <td>1.0</td>\n      <td>1</td>\n      <td>signed self up</td>\n      <td>1978</td>\n      <td>0: Male</td>\n      <td>Requested English materials</td>\n      <td>Gave Phone Number</td>\n      <td>Did NOT sign up for lottery list on first day</td>\n      <td>1: POBOX</td>\n      <td>Signed self up</td>\n    </tr>\n    <tr>\n      <th>1</th>\n      <td>2.0</td>\n      <td>1</td>\n      <td>signed self up</td>\n      <td>1984</td>\n      <td>1: Female</td>\n      <td>Requested English materials</td>\n      <td>Gave Phone Number</td>\n      <td>Did NOT sign up for lottery list on first day</td>\n      <td>0: Not POBOX</td>\n      <td>Signed self up</td>\n    </tr>\n    <tr>\n      <th>2</th>\n      <td>3.0</td>\n      <td>0</td>\n      <td>signed self up</td>\n      <td>1971</td>\n      <td>1: Female</td>\n      <td>Requested English materials</td>\n      <td>Gave Phone Number</td>\n      <td>Did NOT sign up for lottery list on first day</td>\n      <td>0: Not POBOX</td>\n      <td>Signed self up</td>\n    </tr>\n    <tr>\n      <th>3</th>\n      <td>4.0</td>\n      <td>0</td>\n      <td>signed self up</td>\n      <td>1955</td>\n      <td>1: Female</td>\n      <td>Requested English materials</td>\n      <td>Gave Phone Number</td>\n      <td>Did NOT sign up for lottery list on first day</td>\n      <td>0: Not POBOX</td>\n      <td>Signed self up</td>\n    </tr>\n    <tr>\n      <th>4</th>\n      <td>5.0</td>\n      <td>1</td>\n      <td>signed self up</td>\n      <td>1969</td>\n      <td>1: Female</td>\n      <td>Requested materials in language other than eng...</td>\n      <td>Gave Phone Number</td>\n      <td>Did NOT sign up for lottery list on first day</td>\n      <td>0: Not POBOX</td>\n      <td>Signed self up</td>\n    </tr>\n  </tbody>\n</table>\n</div>"
     },
     "metadata": {},
     "execution_count": 34
    }
   ],
   "source": [
    "# Dummy For the Lottery Selection Variable\n",
    "des_2[\"treatment\"]=des_2[\"treatment\"].replace(to_replace='Selected',value=1)\n",
    "des_2[\"treatment\"]=des_2['treatment'].replace(to_replace='Not selected',value=0)\n",
    "des_2['treatment']=pd.to_numeric(des_2['treatment'])\n",
    "des_2.head()"
   ]
  },
  {
   "cell_type": "code",
   "execution_count": 35,
   "metadata": {},
   "outputs": [
    {
     "output_type": "execute_result",
     "data": {
      "text/plain": [
       "signed self up                          57528\n",
       "signed self up + 1 additional person    17236\n",
       "signed self up + 2 additional people      158\n",
       "Name: numhh_list, dtype: int64"
      ]
     },
     "metadata": {},
     "execution_count": 35
    }
   ],
   "source": [
    "# Same thing for household \n",
    "des_2['numhh_list'].value_counts()"
   ]
  },
  {
   "cell_type": "code",
   "execution_count": 36,
   "metadata": {},
   "outputs": [
    {
     "output_type": "execute_result",
     "data": {
      "text/plain": [
       "   person_id  treatment  numhh_list  birthyear_list  female_list  \\\n",
       "0        1.0          1           1            1978          0.0   \n",
       "1        2.0          1           1            1984          1.0   \n",
       "2        3.0          0           1            1971          1.0   \n",
       "3        4.0          0           1            1955          1.0   \n",
       "4        5.0          1           1            1969          1.0   \n",
       "\n",
       "   english_list  have_phone_list  first_day_list  pobox_list  self_list  \n",
       "0             1                1               0           1          1  \n",
       "1             1                1               0           0          1  \n",
       "2             1                1               0           0          1  \n",
       "3             1                1               0           0          1  \n",
       "4             0                1               0           0          1  "
      ],
      "text/html": "<div>\n<style scoped>\n    .dataframe tbody tr th:only-of-type {\n        vertical-align: middle;\n    }\n\n    .dataframe tbody tr th {\n        vertical-align: top;\n    }\n\n    .dataframe thead th {\n        text-align: right;\n    }\n</style>\n<table border=\"1\" class=\"dataframe\">\n  <thead>\n    <tr style=\"text-align: right;\">\n      <th></th>\n      <th>person_id</th>\n      <th>treatment</th>\n      <th>numhh_list</th>\n      <th>birthyear_list</th>\n      <th>female_list</th>\n      <th>english_list</th>\n      <th>have_phone_list</th>\n      <th>first_day_list</th>\n      <th>pobox_list</th>\n      <th>self_list</th>\n    </tr>\n  </thead>\n  <tbody>\n    <tr>\n      <th>0</th>\n      <td>1.0</td>\n      <td>1</td>\n      <td>1</td>\n      <td>1978</td>\n      <td>0.0</td>\n      <td>1</td>\n      <td>1</td>\n      <td>0</td>\n      <td>1</td>\n      <td>1</td>\n    </tr>\n    <tr>\n      <th>1</th>\n      <td>2.0</td>\n      <td>1</td>\n      <td>1</td>\n      <td>1984</td>\n      <td>1.0</td>\n      <td>1</td>\n      <td>1</td>\n      <td>0</td>\n      <td>0</td>\n      <td>1</td>\n    </tr>\n    <tr>\n      <th>2</th>\n      <td>3.0</td>\n      <td>0</td>\n      <td>1</td>\n      <td>1971</td>\n      <td>1.0</td>\n      <td>1</td>\n      <td>1</td>\n      <td>0</td>\n      <td>0</td>\n      <td>1</td>\n    </tr>\n    <tr>\n      <th>3</th>\n      <td>4.0</td>\n      <td>0</td>\n      <td>1</td>\n      <td>1955</td>\n      <td>1.0</td>\n      <td>1</td>\n      <td>1</td>\n      <td>0</td>\n      <td>0</td>\n      <td>1</td>\n    </tr>\n    <tr>\n      <th>4</th>\n      <td>5.0</td>\n      <td>1</td>\n      <td>1</td>\n      <td>1969</td>\n      <td>1.0</td>\n      <td>0</td>\n      <td>1</td>\n      <td>0</td>\n      <td>0</td>\n      <td>1</td>\n    </tr>\n  </tbody>\n</table>\n</div>"
     },
     "metadata": {},
     "execution_count": 36
    }
   ],
   "source": [
    "des_2['numhh_list']=des_2['numhh_list'].replace(to_replace=\"signed self up\",value=1)\n",
    "des_2['numhh_list']=des_2['numhh_list'].replace(to_replace=\"signed self up + 1 additional person\",value=2)\n",
    "des_2['numhh_list']=des_2['numhh_list'].replace(to_replace = 'signed self up + 2 additional people',value=3)\n",
    "\n",
    "des_2['english_list']=des_2['english_list'].replace(to_replace=\"Requested English materials\",value=1)\n",
    "des_2['english_list']=des_2['english_list'].replace(to_replace=\"Requested materials in language other than english\",value=0)\n",
    "\n",
    "des_2['female_list']=des_2['female_list'].replace(to_replace=\"0: Male\",value=0)\n",
    "des_2['female_list']=des_2['female_list'].replace(to_replace=\"1: Female\",value=1)\n",
    "\n",
    "des_2['have_phone_list']=des_2['have_phone_list'].replace(to_replace=\"Gave Phone Number\",value=1)\n",
    "des_2['have_phone_list']=des_2['have_phone_list'].replace(to_replace=\"Did NOT give phone number\",value=0)\n",
    "\n",
    "des_2['self_list']=des_2['self_list'].replace(to_replace='Signed self up',value=1)\n",
    "des_2['self_list']=des_2['self_list'].replace(to_replace=\"Did NOT sign self up\",value=0)\n",
    "\n",
    "des_2['first_day_list']=des_2['first_day_list'].replace(to_replace=\"Signed up for lottery list on first day\",value=1)\n",
    "des_2['first_day_list']=des_2['first_day_list'].replace(to_replace=\"Did NOT sign up for lottery list on first day\",value=0)\n",
    "\n",
    "des_2['pobox_list']=des_2['pobox_list'].replace(to_replace=\"1: POBOX\",value=1)\n",
    "des_2['pobox_list']=des_2['pobox_list'].replace(to_replace=\"0: Not POBOX\",value=0)\n",
    "\n",
    "des_2['numhh_list']=pd.to_numeric(des_2['numhh_list'])\n",
    "des_2['english_list'] =pd.to_numeric(des_2['english_list'])\n",
    "des_2['female_list'] =pd.to_numeric(des_2['female_list'])\n",
    "des_2['have_phone_list']=pd.to_numeric(des_2['have_phone_list'])\n",
    "des_2['self_list'] =pd.to_numeric(des_2['self_list'])\n",
    "des_2['first_day_list'] =pd.to_numeric(des_2['first_day_list'])\n",
    "des_2['pobox_list'] =pd.to_numeric(des_2['pobox_list'])\n",
    "\n",
    "des_2.head()"
   ]
  },
  {
   "cell_type": "code",
   "execution_count": 39,
   "metadata": {},
   "outputs": [
    {
     "output_type": "stream",
     "name": "stdout",
     "text": [
      "<class 'pandas.core.frame.DataFrame'>\nInt64Index: 74922 entries, 0 to 74921\nData columns (total 36 columns):\n #   Column                         Non-Null Count  Dtype   \n---  ------                         --------------  -----   \n 0   person_id                      74922 non-null  float32 \n 1   ohp_all_ever_matchn_30sep2009  74922 non-null  category\n 2   ohp_all_ever_firstn_survey0m   58405 non-null  category\n 3   ohp_all_ever_firstn_survey6m   13024 non-null  category\n 4   ohp_all_ever_inperson          20745 non-null  category\n 5   ohp_all_ever_firstn_30sep2009  74922 non-null  category\n 6   ohp_all_end_30sep2009          74922 non-null  category\n 7   ohp_all_end_survey0m           58405 non-null  category\n 8   ohp_all_end_survey6m           13024 non-null  category\n 9   ohp_all_end_inperson           20745 non-null  category\n 10  ohp_all_at_12m                 58405 non-null  category\n 11  ohp_all_mo_matchn_30sep2009    74922 non-null  category\n 12  ohp_all_mo_firstn_survey0m     58405 non-null  category\n 13  ohp_all_mo_firstn_survey6m     13024 non-null  category\n 14  ohp_all_mo_inperson            20745 non-null  category\n 15  ohp_all_mo_firstn_30sep2009    74922 non-null  category\n 16  ohp_all_mo_12m                 58405 non-null  category\n 17  ohp_std_ever_matchn_30sep2009  74922 non-null  category\n 18  ohp_std_ever_inperson          20745 non-null  category\n 19  ohp_std_ever_firstn_30sep2009  74922 non-null  category\n 20  snap_ever_prenotify07          74922 non-null  category\n 21  snap_ever_presurvey12m         58405 non-null  category\n 22  snap_ever_matchn_30sep2009     74922 non-null  category\n 23  snap_ever_firstn_survey12m     58405 non-null  category\n 24  snap_tot_hh_prenotify07        74922 non-null  int16   \n 25  snap_tot_hh_presurvey12m       58405 non-null  float64 \n 26  snap_tot_hh_30sep2009          74922 non-null  int16   \n 27  snap_tot_hh_firstn_survey12m   58405 non-null  float64 \n 28  tanf_ever_prenotify07          74922 non-null  category\n 29  tanf_ever_presurvey12m         58405 non-null  category\n 30  tanf_ever_matchn_30sep2009     74922 non-null  category\n 31  tanf_ever_firstn_survey12m     58405 non-null  category\n 32  tanf_tot_hh_prenotify07        74922 non-null  float64 \n 33  tanf_tot_hh_presurvey12m       58405 non-null  float64 \n 34  tanf_tot_hh_30sep2009          74922 non-null  float64 \n 35  tanf_tot_hh_firstn_survey12m   58405 non-null  float64 \ndtypes: category(27), float32(1), float64(6), int16(2)\nmemory usage: 6.5 MB\n"
     ]
    }
   ],
   "source": [
    "sp=pd.read_stata(\"oregonhie_stateprograms_vars.dta\")\n",
    "sp.info()"
   ]
  },
  {
   "cell_type": "code",
   "execution_count": 41,
   "metadata": {},
   "outputs": [
    {
     "output_type": "execute_result",
     "data": {
      "text/plain": [
       "   person_id  Enrollment\n",
       "0        1.0           0\n",
       "1        2.0           1\n",
       "2        3.0           0\n",
       "3        4.0           1\n",
       "4        5.0           0"
      ],
      "text/html": "<div>\n<style scoped>\n    .dataframe tbody tr th:only-of-type {\n        vertical-align: middle;\n    }\n\n    .dataframe tbody tr th {\n        vertical-align: top;\n    }\n\n    .dataframe thead th {\n        text-align: right;\n    }\n</style>\n<table border=\"1\" class=\"dataframe\">\n  <thead>\n    <tr style=\"text-align: right;\">\n      <th></th>\n      <th>person_id</th>\n      <th>Enrollment</th>\n    </tr>\n  </thead>\n  <tbody>\n    <tr>\n      <th>0</th>\n      <td>1.0</td>\n      <td>0</td>\n    </tr>\n    <tr>\n      <th>1</th>\n      <td>2.0</td>\n      <td>1</td>\n    </tr>\n    <tr>\n      <th>2</th>\n      <td>3.0</td>\n      <td>0</td>\n    </tr>\n    <tr>\n      <th>3</th>\n      <td>4.0</td>\n      <td>1</td>\n    </tr>\n    <tr>\n      <th>4</th>\n      <td>5.0</td>\n      <td>0</td>\n    </tr>\n  </tbody>\n</table>\n</div>"
     },
     "metadata": {},
     "execution_count": 41
    }
   ],
   "source": [
    "sp_2=sp[[\"person_id\",\"ohp_all_ever_firstn_30sep2009\"]]\n",
    "sp_2=pd.get_dummies(sp_2,columns=[\"ohp_all_ever_firstn_30sep2009\"],drop_first=True)\n",
    "sp_2=sp_2.rename(columns={'ohp_all_ever_firstn_30sep2009_Enrolled': 'Enrollment'})\n",
    "sp_2.head()"
   ]
  },
  {
   "cell_type": "code",
   "execution_count": 43,
   "metadata": {},
   "outputs": [
    {
     "output_type": "execute_result",
     "data": {
      "text/plain": [
       "   person_id  sample_ed any_visit_pre_ed any_visit_ed  num_visit_pre_cens_ed  \\\n",
       "0    60562.0        1.0               No           No                    0.0   \n",
       "1    51142.0        1.0               No          Yes                    0.0   \n",
       "2    60314.0        1.0               No          Yes                    0.0   \n",
       "3    50902.0        1.0               No           No                    0.0   \n",
       "4    70733.0        1.0               No           No                    0.0   \n",
       "\n",
       "   num_visit_cens_ed any_hosp_pre_ed any_hosp_ed  num_hosp_pre_cens_ed  \\\n",
       "0                0.0              No          No                   0.0   \n",
       "1                3.0              No          No                   0.0   \n",
       "2                2.0              No         Yes                   0.0   \n",
       "3                0.0              No          No                   0.0   \n",
       "4                0.0              No          No                   0.0   \n",
       "\n",
       "   num_hosp_cens_ed  ... ed_charg_tot_pre_ed ed_charg_tot_ed  any_hiun_pre_ed  \\\n",
       "0               0.0  ...                 0.0        0.000000               No   \n",
       "1               0.0  ...                 0.0     2220.699951               No   \n",
       "2               1.0  ...                 0.0     4529.549805               No   \n",
       "3               0.0  ...                 0.0        0.000000               No   \n",
       "4               0.0  ...                 0.0        0.000000               No   \n",
       "\n",
       "   any_hiun_ed num_hiun_pre_cens_ed num_hiun_cens_ed  any_loun_pre_ed  \\\n",
       "0           No                  0.0              0.0               No   \n",
       "1          Yes                  0.0              3.0               No   \n",
       "2          Yes                  0.0              2.0               No   \n",
       "3           No                  0.0              0.0               No   \n",
       "4           No                  0.0              0.0               No   \n",
       "\n",
       "   any_loun_ed num_loun_pre_cens_ed num_loun_cens_ed  \n",
       "0           No                  0.0              0.0  \n",
       "1           No                  0.0              0.0  \n",
       "2           No                  0.0              0.0  \n",
       "3           No                  0.0              0.0  \n",
       "4           No                  0.0              0.0  \n",
       "\n",
       "[5 rows x 88 columns]"
      ],
      "text/html": "<div>\n<style scoped>\n    .dataframe tbody tr th:only-of-type {\n        vertical-align: middle;\n    }\n\n    .dataframe tbody tr th {\n        vertical-align: top;\n    }\n\n    .dataframe thead th {\n        text-align: right;\n    }\n</style>\n<table border=\"1\" class=\"dataframe\">\n  <thead>\n    <tr style=\"text-align: right;\">\n      <th></th>\n      <th>person_id</th>\n      <th>sample_ed</th>\n      <th>any_visit_pre_ed</th>\n      <th>any_visit_ed</th>\n      <th>num_visit_pre_cens_ed</th>\n      <th>num_visit_cens_ed</th>\n      <th>any_hosp_pre_ed</th>\n      <th>any_hosp_ed</th>\n      <th>num_hosp_pre_cens_ed</th>\n      <th>num_hosp_cens_ed</th>\n      <th>...</th>\n      <th>ed_charg_tot_pre_ed</th>\n      <th>ed_charg_tot_ed</th>\n      <th>any_hiun_pre_ed</th>\n      <th>any_hiun_ed</th>\n      <th>num_hiun_pre_cens_ed</th>\n      <th>num_hiun_cens_ed</th>\n      <th>any_loun_pre_ed</th>\n      <th>any_loun_ed</th>\n      <th>num_loun_pre_cens_ed</th>\n      <th>num_loun_cens_ed</th>\n    </tr>\n  </thead>\n  <tbody>\n    <tr>\n      <th>0</th>\n      <td>60562.0</td>\n      <td>1.0</td>\n      <td>No</td>\n      <td>No</td>\n      <td>0.0</td>\n      <td>0.0</td>\n      <td>No</td>\n      <td>No</td>\n      <td>0.0</td>\n      <td>0.0</td>\n      <td>...</td>\n      <td>0.0</td>\n      <td>0.000000</td>\n      <td>No</td>\n      <td>No</td>\n      <td>0.0</td>\n      <td>0.0</td>\n      <td>No</td>\n      <td>No</td>\n      <td>0.0</td>\n      <td>0.0</td>\n    </tr>\n    <tr>\n      <th>1</th>\n      <td>51142.0</td>\n      <td>1.0</td>\n      <td>No</td>\n      <td>Yes</td>\n      <td>0.0</td>\n      <td>3.0</td>\n      <td>No</td>\n      <td>No</td>\n      <td>0.0</td>\n      <td>0.0</td>\n      <td>...</td>\n      <td>0.0</td>\n      <td>2220.699951</td>\n      <td>No</td>\n      <td>Yes</td>\n      <td>0.0</td>\n      <td>3.0</td>\n      <td>No</td>\n      <td>No</td>\n      <td>0.0</td>\n      <td>0.0</td>\n    </tr>\n    <tr>\n      <th>2</th>\n      <td>60314.0</td>\n      <td>1.0</td>\n      <td>No</td>\n      <td>Yes</td>\n      <td>0.0</td>\n      <td>2.0</td>\n      <td>No</td>\n      <td>Yes</td>\n      <td>0.0</td>\n      <td>1.0</td>\n      <td>...</td>\n      <td>0.0</td>\n      <td>4529.549805</td>\n      <td>No</td>\n      <td>Yes</td>\n      <td>0.0</td>\n      <td>2.0</td>\n      <td>No</td>\n      <td>No</td>\n      <td>0.0</td>\n      <td>0.0</td>\n    </tr>\n    <tr>\n      <th>3</th>\n      <td>50902.0</td>\n      <td>1.0</td>\n      <td>No</td>\n      <td>No</td>\n      <td>0.0</td>\n      <td>0.0</td>\n      <td>No</td>\n      <td>No</td>\n      <td>0.0</td>\n      <td>0.0</td>\n      <td>...</td>\n      <td>0.0</td>\n      <td>0.000000</td>\n      <td>No</td>\n      <td>No</td>\n      <td>0.0</td>\n      <td>0.0</td>\n      <td>No</td>\n      <td>No</td>\n      <td>0.0</td>\n      <td>0.0</td>\n    </tr>\n    <tr>\n      <th>4</th>\n      <td>70733.0</td>\n      <td>1.0</td>\n      <td>No</td>\n      <td>No</td>\n      <td>0.0</td>\n      <td>0.0</td>\n      <td>No</td>\n      <td>No</td>\n      <td>0.0</td>\n      <td>0.0</td>\n      <td>...</td>\n      <td>0.0</td>\n      <td>0.000000</td>\n      <td>No</td>\n      <td>No</td>\n      <td>0.0</td>\n      <td>0.0</td>\n      <td>No</td>\n      <td>No</td>\n      <td>0.0</td>\n      <td>0.0</td>\n    </tr>\n  </tbody>\n</table>\n<p>5 rows × 88 columns</p>\n</div>"
     },
     "metadata": {},
     "execution_count": 43
    }
   ],
   "source": [
    "edvar=pd.read_stata(\"oregonhie_ed_vars.dta\")\n",
    "edvar.head()"
   ]
  },
  {
   "cell_type": "code",
   "execution_count": 50,
   "metadata": {},
   "outputs": [
    {
     "output_type": "execute_result",
     "data": {
      "text/plain": [
       "       person_id  any_visit  num_visit\n",
       "0        60562.0          0        0.0\n",
       "1        51142.0          1        3.0\n",
       "2        60314.0          1        2.0\n",
       "3        50902.0          0        0.0\n",
       "4        70733.0          0        0.0\n",
       "...          ...        ...        ...\n",
       "24641    74030.0          1       18.0\n",
       "24642      650.0          1        NaN\n",
       "24643    60044.0          1        NaN\n",
       "24644     2477.0          1       22.0\n",
       "24645    53501.0          1        NaN\n",
       "\n",
       "[24646 rows x 3 columns]"
      ],
      "text/html": "<div>\n<style scoped>\n    .dataframe tbody tr th:only-of-type {\n        vertical-align: middle;\n    }\n\n    .dataframe tbody tr th {\n        vertical-align: top;\n    }\n\n    .dataframe thead th {\n        text-align: right;\n    }\n</style>\n<table border=\"1\" class=\"dataframe\">\n  <thead>\n    <tr style=\"text-align: right;\">\n      <th></th>\n      <th>person_id</th>\n      <th>any_visit</th>\n      <th>num_visit</th>\n    </tr>\n  </thead>\n  <tbody>\n    <tr>\n      <th>0</th>\n      <td>60562.0</td>\n      <td>0</td>\n      <td>0.0</td>\n    </tr>\n    <tr>\n      <th>1</th>\n      <td>51142.0</td>\n      <td>1</td>\n      <td>3.0</td>\n    </tr>\n    <tr>\n      <th>2</th>\n      <td>60314.0</td>\n      <td>1</td>\n      <td>2.0</td>\n    </tr>\n    <tr>\n      <th>3</th>\n      <td>50902.0</td>\n      <td>0</td>\n      <td>0.0</td>\n    </tr>\n    <tr>\n      <th>4</th>\n      <td>70733.0</td>\n      <td>0</td>\n      <td>0.0</td>\n    </tr>\n    <tr>\n      <th>...</th>\n      <td>...</td>\n      <td>...</td>\n      <td>...</td>\n    </tr>\n    <tr>\n      <th>24641</th>\n      <td>74030.0</td>\n      <td>1</td>\n      <td>18.0</td>\n    </tr>\n    <tr>\n      <th>24642</th>\n      <td>650.0</td>\n      <td>1</td>\n      <td>NaN</td>\n    </tr>\n    <tr>\n      <th>24643</th>\n      <td>60044.0</td>\n      <td>1</td>\n      <td>NaN</td>\n    </tr>\n    <tr>\n      <th>24644</th>\n      <td>2477.0</td>\n      <td>1</td>\n      <td>22.0</td>\n    </tr>\n    <tr>\n      <th>24645</th>\n      <td>53501.0</td>\n      <td>1</td>\n      <td>NaN</td>\n    </tr>\n  </tbody>\n</table>\n<p>24646 rows × 3 columns</p>\n</div>"
     },
     "metadata": {},
     "execution_count": 50
    }
   ],
   "source": [
    "edvar_2=edvar[[\"person_id\",\"any_visit_ed\",\"num_visit_cens_ed\"]]\n",
    "edvar_2=edvar_2.rename(columns={'num_visit_cens_ed': 'num_visit','any_visit_ed':\"any_visit\"})\n",
    "edvar_2['any_visit']=edvar_2['any_visit'].replace(to_replace=\"No\",value=0)\n",
    "edvar_2['any_visit']=edvar_2['any_visit'].replace(to_replace=\"Yes\",value=1)\n",
    "edvar_2['any_visit'] = pd.to_numeric(edvar_2['any_visit'])\n",
    "edvar_2"
   ]
  },
  {
   "cell_type": "code",
   "execution_count": 51,
   "metadata": {},
   "outputs": [
    {
     "output_type": "execute_result",
     "data": {
      "text/plain": [
       "       person_id  treatment  numhh_list  birthyear_list  female_list  \\\n",
       "0            5.0          1           1            1969          1.0   \n",
       "1            8.0          0           2            1968          0.0   \n",
       "2            9.0          0           1            1977          1.0   \n",
       "3           16.0          0           2            1971          1.0   \n",
       "4           18.0          0           1            1957          0.0   \n",
       "...          ...        ...         ...             ...          ...   \n",
       "24641    74907.0          1           1            1953          0.0   \n",
       "24642    74911.0          1           2            1963          0.0   \n",
       "24643    74915.0          1           1            1951          1.0   \n",
       "24644    74918.0          0           1            1955          0.0   \n",
       "24645    74920.0          0           1            1965          1.0   \n",
       "\n",
       "       english_list  have_phone_list  first_day_list  pobox_list  self_list  \\\n",
       "0                 0                1               0           0          1   \n",
       "1                 1                1               0           0          1   \n",
       "2                 1                1               0           0          1   \n",
       "3                 1                1               0           0          1   \n",
       "4                 1                1               0           0          1   \n",
       "...             ...              ...             ...         ...        ...   \n",
       "24641             1                1               0           0          1   \n",
       "24642             1                1               1           1          0   \n",
       "24643             0                1               1           1          1   \n",
       "24644             1                1               0           0          1   \n",
       "24645             1                1               0           0          1   \n",
       "\n",
       "       Enrollment  any_visit  num_visit  \n",
       "0               0          0        0.0  \n",
       "1               0          1        2.0  \n",
       "2               0          0        0.0  \n",
       "3               1          1        5.0  \n",
       "4               0          0        0.0  \n",
       "...           ...        ...        ...  \n",
       "24641           0          0        0.0  \n",
       "24642           0          0        0.0  \n",
       "24643           1          0        0.0  \n",
       "24644           0          1        5.0  \n",
       "24645           1          0        0.0  \n",
       "\n",
       "[24646 rows x 13 columns]"
      ],
      "text/html": "<div>\n<style scoped>\n    .dataframe tbody tr th:only-of-type {\n        vertical-align: middle;\n    }\n\n    .dataframe tbody tr th {\n        vertical-align: top;\n    }\n\n    .dataframe thead th {\n        text-align: right;\n    }\n</style>\n<table border=\"1\" class=\"dataframe\">\n  <thead>\n    <tr style=\"text-align: right;\">\n      <th></th>\n      <th>person_id</th>\n      <th>treatment</th>\n      <th>numhh_list</th>\n      <th>birthyear_list</th>\n      <th>female_list</th>\n      <th>english_list</th>\n      <th>have_phone_list</th>\n      <th>first_day_list</th>\n      <th>pobox_list</th>\n      <th>self_list</th>\n      <th>Enrollment</th>\n      <th>any_visit</th>\n      <th>num_visit</th>\n    </tr>\n  </thead>\n  <tbody>\n    <tr>\n      <th>0</th>\n      <td>5.0</td>\n      <td>1</td>\n      <td>1</td>\n      <td>1969</td>\n      <td>1.0</td>\n      <td>0</td>\n      <td>1</td>\n      <td>0</td>\n      <td>0</td>\n      <td>1</td>\n      <td>0</td>\n      <td>0</td>\n      <td>0.0</td>\n    </tr>\n    <tr>\n      <th>1</th>\n      <td>8.0</td>\n      <td>0</td>\n      <td>2</td>\n      <td>1968</td>\n      <td>0.0</td>\n      <td>1</td>\n      <td>1</td>\n      <td>0</td>\n      <td>0</td>\n      <td>1</td>\n      <td>0</td>\n      <td>1</td>\n      <td>2.0</td>\n    </tr>\n    <tr>\n      <th>2</th>\n      <td>9.0</td>\n      <td>0</td>\n      <td>1</td>\n      <td>1977</td>\n      <td>1.0</td>\n      <td>1</td>\n      <td>1</td>\n      <td>0</td>\n      <td>0</td>\n      <td>1</td>\n      <td>0</td>\n      <td>0</td>\n      <td>0.0</td>\n    </tr>\n    <tr>\n      <th>3</th>\n      <td>16.0</td>\n      <td>0</td>\n      <td>2</td>\n      <td>1971</td>\n      <td>1.0</td>\n      <td>1</td>\n      <td>1</td>\n      <td>0</td>\n      <td>0</td>\n      <td>1</td>\n      <td>1</td>\n      <td>1</td>\n      <td>5.0</td>\n    </tr>\n    <tr>\n      <th>4</th>\n      <td>18.0</td>\n      <td>0</td>\n      <td>1</td>\n      <td>1957</td>\n      <td>0.0</td>\n      <td>1</td>\n      <td>1</td>\n      <td>0</td>\n      <td>0</td>\n      <td>1</td>\n      <td>0</td>\n      <td>0</td>\n      <td>0.0</td>\n    </tr>\n    <tr>\n      <th>...</th>\n      <td>...</td>\n      <td>...</td>\n      <td>...</td>\n      <td>...</td>\n      <td>...</td>\n      <td>...</td>\n      <td>...</td>\n      <td>...</td>\n      <td>...</td>\n      <td>...</td>\n      <td>...</td>\n      <td>...</td>\n      <td>...</td>\n    </tr>\n    <tr>\n      <th>24641</th>\n      <td>74907.0</td>\n      <td>1</td>\n      <td>1</td>\n      <td>1953</td>\n      <td>0.0</td>\n      <td>1</td>\n      <td>1</td>\n      <td>0</td>\n      <td>0</td>\n      <td>1</td>\n      <td>0</td>\n      <td>0</td>\n      <td>0.0</td>\n    </tr>\n    <tr>\n      <th>24642</th>\n      <td>74911.0</td>\n      <td>1</td>\n      <td>2</td>\n      <td>1963</td>\n      <td>0.0</td>\n      <td>1</td>\n      <td>1</td>\n      <td>1</td>\n      <td>1</td>\n      <td>0</td>\n      <td>0</td>\n      <td>0</td>\n      <td>0.0</td>\n    </tr>\n    <tr>\n      <th>24643</th>\n      <td>74915.0</td>\n      <td>1</td>\n      <td>1</td>\n      <td>1951</td>\n      <td>1.0</td>\n      <td>0</td>\n      <td>1</td>\n      <td>1</td>\n      <td>1</td>\n      <td>1</td>\n      <td>1</td>\n      <td>0</td>\n      <td>0.0</td>\n    </tr>\n    <tr>\n      <th>24644</th>\n      <td>74918.0</td>\n      <td>0</td>\n      <td>1</td>\n      <td>1955</td>\n      <td>0.0</td>\n      <td>1</td>\n      <td>1</td>\n      <td>0</td>\n      <td>0</td>\n      <td>1</td>\n      <td>0</td>\n      <td>1</td>\n      <td>5.0</td>\n    </tr>\n    <tr>\n      <th>24645</th>\n      <td>74920.0</td>\n      <td>0</td>\n      <td>1</td>\n      <td>1965</td>\n      <td>1.0</td>\n      <td>1</td>\n      <td>1</td>\n      <td>0</td>\n      <td>0</td>\n      <td>1</td>\n      <td>1</td>\n      <td>0</td>\n      <td>0.0</td>\n    </tr>\n  </tbody>\n</table>\n<p>24646 rows × 13 columns</p>\n</div>"
     },
     "metadata": {},
     "execution_count": 51
    }
   ],
   "source": [
    "Joint=pd.merge(des_2,sp_2,how=\"inner\",on=\"person_id\")\n",
    "Joint=pd.merge(Joint,edvar_2,how=\"inner\",on=\"person_id\")\n",
    "Joint"
   ]
  },
  {
   "source": [
    "# Balance Check\n",
    "\n",
    "Conduct Balance Check on demographical variables"
   ],
   "cell_type": "markdown",
   "metadata": {}
  },
  {
   "cell_type": "code",
   "execution_count": 55,
   "metadata": {},
   "outputs": [
    {
     "output_type": "stream",
     "name": "stdout",
     "text": [
      "                            OLS Regression Results                            \n==============================================================================\nDep. Variable:         birthyear_list   R-squared:                       0.000\nModel:                            OLS   Adj. R-squared:                  0.000\nMethod:                 Least Squares   F-statistic:                     2.734\nDate:                Thu, 20 May 2021   Prob (F-statistic):             0.0650\nTime:                        20:23:19   Log-Likelihood:                -96304.\nNo. Observations:               24646   AIC:                         1.926e+05\nDf Residuals:                   24643   BIC:                         1.926e+05\nDf Model:                           2                                         \nCovariance Type:            nonrobust                                         \n==============================================================================\n                 coef    std err          t      P>|t|      [0.025      0.975]\n------------------------------------------------------------------------------\nconst       1967.8769      0.239   8218.458      0.000    1967.408    1968.346\ntreatment      0.0975      0.160      0.608      0.543      -0.217       0.412\nnumhh_list     0.4013      0.191      2.099      0.036       0.027       0.776\n==============================================================================\nOmnibus:                    12451.618   Durbin-Watson:                   1.978\nProb(Omnibus):                  0.000   Jarque-Bera (JB):             1365.692\nSkew:                          -0.116   Prob(JB):                    2.78e-297\nKurtosis:                       1.870   Cond. No.                         6.46\n==============================================================================\n\nNotes:\n[1] Standard Errors assume that the covariance matrix of the errors is correctly specified.\n"
     ]
    }
   ],
   "source": [
    "year = sm.OLS(endog = Joint['birthyear_list'], exog = sm.add_constant(Joint[['treatment','numhh_list']]))\n",
    "bal_ch_year = year.fit()\n",
    "print(bal_ch_year.summary())\n",
    "print(\"p-value is 0.543, we cannot reject the null hypothesis--> Balance\")"
   ]
  },
  {
   "cell_type": "code",
   "execution_count": 56,
   "metadata": {},
   "outputs": [
    {
     "output_type": "stream",
     "name": "stdout",
     "text": [
      "                            OLS Regression Results                            \n==============================================================================\nDep. Variable:            female_list   R-squared:                       0.002\nModel:                            OLS   Adj. R-squared:                  0.002\nMethod:                 Least Squares   F-statistic:                     21.44\nDate:                Thu, 20 May 2021   Prob (F-statistic):           4.98e-10\nTime:                        20:24:01   Log-Likelihood:                -17758.\nNo. Observations:               24646   AIC:                         3.552e+04\nDf Residuals:                   24643   BIC:                         3.555e+04\nDf Model:                           2                                         \nCovariance Type:            nonrobust                                         \n==============================================================================\n                 coef    std err          t      P>|t|      [0.025      0.975]\n------------------------------------------------------------------------------\nconst          0.6074      0.010     61.420      0.000       0.588       0.627\ntreatment     -0.0099      0.007     -1.497      0.134      -0.023       0.003\nnumhh_list    -0.0471      0.008     -5.969      0.000      -0.063      -0.032\n==============================================================================\nOmnibus:                    86492.577   Durbin-Watson:                   2.012\nProb(Omnibus):                  0.000   Jarque-Bera (JB):             4080.552\nSkew:                          -0.187   Prob(JB):                         0.00\nKurtosis:                       1.042   Cond. No.                         6.46\n==============================================================================\n\nNotes:\n[1] Standard Errors assume that the covariance matrix of the errors is correctly specified.\n"
     ]
    }
   ],
   "source": [
    "gender = sm.OLS(endog = Joint['female_list'], exog = sm.add_constant(Joint[['treatment','numhh_list']]))\n",
    "bal_ch_gender = gender.fit()\n",
    "print(bal_ch_gender.summary())\n",
    "print(\"p-value is 0.134, we cannot reject the null hypothesis--> Balance\")"
   ]
  },
  {
   "cell_type": "code",
   "execution_count": 57,
   "metadata": {},
   "outputs": [
    {
     "output_type": "stream",
     "name": "stdout",
     "text": [
      "                            OLS Regression Results                            \n==============================================================================\nDep. Variable:              self_list   R-squared:                       0.443\nModel:                            OLS   Adj. R-squared:                  0.443\nMethod:                 Least Squares   F-statistic:                     9811.\nDate:                Thu, 20 May 2021   Prob (F-statistic):               0.00\nTime:                        20:25:39   Log-Likelihood:                 1715.4\nNo. Observations:               24646   AIC:                            -3425.\nDf Residuals:                   24643   BIC:                            -3400.\nDf Model:                           2                                         \nCovariance Type:            nonrobust                                         \n==============================================================================\n                 coef    std err          t      P>|t|      [0.025      0.975]\n------------------------------------------------------------------------------\nconst          1.4915      0.004    332.379      0.000       1.483       1.500\ntreatment      0.0009      0.003      0.291      0.771      -0.005       0.007\nnumhh_list    -0.4927      0.004   -137.535      0.000      -0.500      -0.486\n==============================================================================\nOmnibus:                     1214.249   Durbin-Watson:                   2.004\nProb(Omnibus):                  0.000   Jarque-Bera (JB):             4571.705\nSkew:                          -0.028   Prob(JB):                         0.00\nKurtosis:                       5.109   Cond. No.                         6.46\n==============================================================================\n\nNotes:\n[1] Standard Errors assume that the covariance matrix of the errors is correctly specified.\n"
     ]
    }
   ],
   "source": [
    "s = sm.OLS(endog = Joint['self_list'], exog = sm.add_constant(Joint[['treatment','numhh_list']]))\n",
    "bal_ch_self = s.fit()\n",
    "print(bal_ch_self.summary())\n",
    "print(\"p-value is 0.771, we cannot reject the null hypothesis--> Balance\")"
   ]
  },
  {
   "cell_type": "code",
   "execution_count": 58,
   "metadata": {},
   "outputs": [
    {
     "output_type": "stream",
     "name": "stdout",
     "text": [
      "                            OLS Regression Results                            \n==============================================================================\nDep. Variable:           english_list   R-squared:                       0.072\nModel:                            OLS   Adj. R-squared:                  0.071\nMethod:                 Least Squares   F-statistic:                     949.1\nDate:                Thu, 20 May 2021   Prob (F-statistic):               0.00\nTime:                        20:28:22   Log-Likelihood:                -7617.3\nNo. Observations:               24646   AIC:                         1.524e+04\nDf Residuals:                   24643   BIC:                         1.526e+04\nDf Model:                           2                                         \nCovariance Type:            nonrobust                                         \n==============================================================================\n                 coef    std err          t      P>|t|      [0.025      0.975]\n------------------------------------------------------------------------------\nconst          1.1329      0.007    172.879      0.000       1.120       1.146\ntreatment      0.0092      0.004      2.105      0.035       0.001       0.018\nnumhh_list    -0.2255      0.005    -43.114      0.000      -0.236      -0.215\n==============================================================================\nOmnibus:                     8431.221   Durbin-Watson:                   1.999\nProb(Omnibus):                  0.000   Jarque-Bera (JB):            21620.156\nSkew:                          -1.936   Prob(JB):                         0.00\nKurtosis:                       5.461   Cond. No.                         6.46\n==============================================================================\n\nNotes:\n[1] Standard Errors assume that the covariance matrix of the errors is correctly specified.\np-value is 0.771, we cannot reject the null hypothesis--> Balance\n"
     ]
    }
   ],
   "source": [
    "english = sm.OLS(endog = Joint['english_list'], exog = sm.add_constant(Joint[['treatment','numhh_list']]))\n",
    "bal_ch_english = english.fit()\n",
    "print(bal_ch_english.summary())\n",
    "print(\"p-value is 0.035, we reject the null hypothesis--> imbalanced\")"
   ]
  },
  {
   "cell_type": "code",
   "execution_count": 59,
   "metadata": {},
   "outputs": [
    {
     "output_type": "stream",
     "name": "stdout",
     "text": [
      "                            OLS Regression Results                            \n==============================================================================\nDep. Variable:         first_day_list   R-squared:                       0.000\nModel:                            OLS   Adj. R-squared:                  0.000\nMethod:                 Least Squares   F-statistic:                     1.370\nDate:                Thu, 20 May 2021   Prob (F-statistic):              0.254\nTime:                        20:31:04   Log-Likelihood:                -4478.2\nNo. Observations:               24646   AIC:                             8962.\nDf Residuals:                   24643   BIC:                             8987.\nDf Model:                           2                                         \nCovariance Type:            nonrobust                                         \n==============================================================================\n                 coef    std err          t      P>|t|      [0.025      0.975]\n------------------------------------------------------------------------------\nconst          0.0937      0.006     16.233      0.000       0.082       0.105\ntreatment      0.0063      0.004      1.631      0.103      -0.001       0.014\nnumhh_list    -0.0027      0.005     -0.591      0.555      -0.012       0.006\n==============================================================================\nOmnibus:                    13452.717   Durbin-Watson:                   2.021\nProb(Omnibus):                  0.000   Jarque-Bera (JB):            67752.952\nSkew:                           2.806   Prob(JB):                         0.00\nKurtosis:                       8.873   Cond. No.                         6.46\n==============================================================================\n\nNotes:\n[1] Standard Errors assume that the covariance matrix of the errors is correctly specified.\np-value is 0.771, we cannot reject the null hypothesis--> Balance\n"
     ]
    }
   ],
   "source": [
    "fd = sm.OLS(endog = Joint['first_day_list'], exog = sm.add_constant(Joint[['treatment','numhh_list']]))\n",
    "bal_ch_fd = fd.fit()\n",
    "print(bal_ch_fd.summary())\n",
    "print(\"p-value is 0.103, we cannot reject the null hypothesis--> Balance\")"
   ]
  },
  {
   "cell_type": "code",
   "execution_count": 61,
   "metadata": {},
   "outputs": [
    {
     "output_type": "stream",
     "name": "stdout",
     "text": [
      "                            OLS Regression Results                            \n==============================================================================\nDep. Variable:        have_phone_list   R-squared:                       0.003\nModel:                            OLS   Adj. R-squared:                  0.002\nMethod:                 Least Squares   F-statistic:                     31.28\nDate:                Thu, 20 May 2021   Prob (F-statistic):           2.71e-14\nTime:                        20:33:44   Log-Likelihood:                -8098.6\nNo. Observations:               24646   AIC:                         1.620e+04\nDf Residuals:                   24643   BIC:                         1.623e+04\nDf Model:                           2                                         \nCovariance Type:            nonrobust                                         \n==============================================================================\n                 coef    std err          t      P>|t|      [0.025      0.975]\n------------------------------------------------------------------------------\nconst          0.8197      0.007    122.675      0.000       0.807       0.833\ntreatment      0.0027      0.004      0.610      0.542      -0.006       0.011\nnumhh_list     0.0407      0.005      7.623      0.000       0.030       0.051\n==============================================================================\nOmnibus:                     9672.591   Durbin-Watson:                   1.991\nProb(Omnibus):                  0.000   Jarque-Bera (JB):            27809.218\nSkew:                          -2.189   Prob(JB):                         0.00\nKurtosis:                       5.813   Cond. No.                         6.46\n==============================================================================\n\nNotes:\n[1] Standard Errors assume that the covariance matrix of the errors is correctly specified.\np-value is 0.103, we cannot reject the null hypothesis--> Balance\n"
     ]
    }
   ],
   "source": [
    "phone= sm.OLS(endog = Joint['have_phone_list'], exog = sm.add_constant(Joint[['treatment','numhh_list']]))\n",
    "bal_ch_phone= phone.fit()\n",
    "print(bal_ch_phone.summary())\n",
    "print(\"p-value is 0.542, we cannot reject the null hypothesis--> Balance\")"
   ]
  },
  {
   "cell_type": "code",
   "execution_count": 62,
   "metadata": {},
   "outputs": [
    {
     "output_type": "stream",
     "name": "stdout",
     "text": [
      "                            OLS Regression Results                            \n==============================================================================\nDep. Variable:             pobox_list   R-squared:                       0.000\nModel:                            OLS   Adj. R-squared:                  0.000\nMethod:                 Least Squares   F-statistic:                     5.040\nDate:                Thu, 20 May 2021   Prob (F-statistic):            0.00648\nTime:                        20:33:59   Log-Likelihood:                 10162.\nNo. Observations:               24646   AIC:                        -2.032e+04\nDf Residuals:                   24643   BIC:                        -2.029e+04\nDf Model:                           2                                         \nCovariance Type:            nonrobust                                         \n==============================================================================\n                 coef    std err          t      P>|t|      [0.025      0.975]\n------------------------------------------------------------------------------\nconst          0.0357      0.003     11.211      0.000       0.029       0.042\ntreatment      0.0010      0.002      0.458      0.647      -0.003       0.005\nnumhh_list    -0.0081      0.003     -3.171      0.002      -0.013      -0.003\n==============================================================================\nOmnibus:                    26848.976   Durbin-Watson:                   2.026\nProb(Omnibus):                  0.000   Jarque-Bera (JB):          1256025.783\nSkew:                           5.908   Prob(JB):                         0.00\nKurtosis:                      35.917   Cond. No.                         6.46\n==============================================================================\n\nNotes:\n[1] Standard Errors assume that the covariance matrix of the errors is correctly specified.\np-value is 0.103, we cannot reject the null hypothesis--> Balance\n"
     ]
    }
   ],
   "source": [
    "pb= sm.OLS(endog = Joint['pobox_list'], exog = sm.add_constant(Joint[['treatment','numhh_list']]))\n",
    "bal_ch_postbox= pb.fit()\n",
    "print(bal_ch_postbox.summary())\n",
    "print(\"p-value is 0.647, we cannot reject the null hypothesis--> Balance\")"
   ]
  },
  {
   "cell_type": "code",
   "execution_count": null,
   "metadata": {},
   "outputs": [],
   "source": [
    "Balance Check Summary: While most of the covariate variables being balanced in the control and treatment group, the \"english_list\" shows there is a selection bias regarding the english level. Therefore, we need to adopt the 2SLS in order to have an unbiased estimation. "
   ]
  },
  {
   "source": [
    "# Model Fitting"
   ],
   "cell_type": "markdown",
   "metadata": {}
  },
  {
   "cell_type": "code",
   "execution_count": 66,
   "metadata": {},
   "outputs": [
    {
     "output_type": "stream",
     "name": "stdout",
     "text": [
      "                            OLS Regression Results                            \n==============================================================================\nDep. Variable:             Enrollment   R-squared:                       0.076\nModel:                            OLS   Adj. R-squared:                  0.075\nMethod:                 Least Squares   F-statistic:                     1006.\nDate:                Thu, 20 May 2021   Prob (F-statistic):               0.00\nTime:                        20:50:22   Log-Likelihood:                -13213.\nNo. Observations:               24646   AIC:                         2.643e+04\nDf Residuals:                   24643   BIC:                         2.646e+04\nDf Model:                           2                                         \nCovariance Type:            nonrobust                                         \n==============================================================================\n                 coef    std err          t      P>|t|      [0.025      0.975]\n------------------------------------------------------------------------------\nconst          0.1953      0.008     23.744      0.000       0.179       0.211\ntreatment      0.2464      0.006     44.777      0.000       0.236       0.257\nnumhh_list    -0.0385      0.007     -5.858      0.000      -0.051      -0.026\n==============================================================================\nOmnibus:                     3509.819   Durbin-Watson:                   2.003\nProb(Omnibus):                  0.000   Jarque-Bera (JB):             4770.800\nSkew:                           1.054   Prob(JB):                         0.00\nKurtosis:                       2.550   Cond. No.                         6.46\n==============================================================================\n\nNotes:\n[1] Standard Errors assume that the covariance matrix of the errors is correctly specified.\n [Based on the weak instrument test, the F-statistic of the first stage regression is 1006>10, so the IVs satisfy the strong first-stage assumption.]\n"
     ]
    }
   ],
   "source": [
    "# Fit the first-stage OLS and have the weak instrument test.\n",
    "First_Stage = sm.OLS(endog = Joint['Enrollment'], exog = sm.add_constant(Joint[['treatment',\"numhh_list\"]]))\n",
    "WIT = First_Stage.fit()\n",
    "print(WIT.summary())\n",
    "\n",
    "print(\" [Based on the weak instrument test, the F-statistic of the first stage regression is 1006>10, so the IVs satisfy the strong first-stage assumption.]\")"
   ]
  },
  {
   "cell_type": "code",
   "execution_count": 69,
   "metadata": {},
   "outputs": [
    {
     "output_type": "stream",
     "name": "stdout",
     "text": [
      "                          IV-2SLS Estimation Summary                          \n==============================================================================\nDep. Variable:              any_visit   R-squared:                      0.0300\nEstimator:                    IV-2SLS   Adj. R-squared:                 0.0299\nNo. Observations:               24646   F-statistic:                    413.87\nDate:                Thu, May 20 2021   P-value (F-stat)                0.0000\nTime:                        20:51:39   Distribution:                  chi2(2)\nCov. Estimator:                robust                                         \n                                                                              \n                             Parameter Estimates                              \n==============================================================================\n            Parameter  Std. Err.     T-stat    P-value    Lower CI    Upper CI\n------------------------------------------------------------------------------\nconst          0.4890     0.0106     46.101     0.0000      0.4682      0.5098\nnumhh_list    -0.1364     0.0067    -20.244     0.0000     -0.1496     -0.1231\nEnrollment     0.0766     0.0252     3.0392     0.0024      0.0272      0.1260\n==============================================================================\n\nEndogenous: Enrollment\nInstruments: treatment\nRobust Covariance (Heteroskedastic)\nDebiased: False\n"
     ]
    }
   ],
   "source": [
    "# Fit the second stage \n",
    "from linearmodels.iv import IV2SLS\n",
    "IV_model = IV2SLS(dependent = Joint['any_visit'],endog = Joint['Enrollment'],\\\n",
    "                  exog = sm.add_constant(Joint[\"numhh_list\"]),instruments=Joint['treatment'])\n",
    "R_2sls = IV_model.fit()\n",
    "print(R_2sls)"
   ]
  },
  {
   "cell_type": "code",
   "execution_count": 72,
   "metadata": {},
   "outputs": [
    {
     "output_type": "stream",
     "name": "stdout",
     "text": [
      "                          IV-2SLS Estimation Summary                          \n",
      "==============================================================================\n",
      "Dep. Variable:              num_visit   R-squared:                      0.0220\n",
      "Estimator:                    IV-2SLS   Adj. R-squared:                 0.0219\n",
      "No. Observations:               24622   F-statistic:                    468.38\n",
      "Date:                Thu, May 20 2021   P-value (F-stat)                0.0000\n",
      "Time:                        20:56:12   Distribution:                  chi2(2)\n",
      "Cov. Estimator:                robust                                         \n",
      "                                                                              \n",
      "                             Parameter Estimates                              \n",
      "==============================================================================\n",
      "            Parameter  Std. Err.     T-stat    P-value    Lower CI    Upper CI\n",
      "------------------------------------------------------------------------------\n",
      "const          1.6197     0.0506     32.036     0.0000      1.5206      1.7188\n",
      "numhh_list    -0.5866     0.0272    -21.596     0.0000     -0.6398     -0.5333\n",
      "Enrollment     0.3454     0.1293     2.6705     0.0076      0.0919      0.5989\n",
      "==============================================================================\n",
      "\n",
      "Endogenous: Enrollment\n",
      "Instruments: treatment\n",
      "Robust Covariance (Heteroskedastic)\n",
      "Debiased: False\n",
      "C:\\Users\\gzLij\\AppData\\Local\\Programs\\Python\\Python37\\lib\\site-packages\\linearmodels\\shared\\exceptions.py:35: MissingValueWarning: \n",
      "Inputs contain missing values. Dropping rows with missing observations.\n",
      "  warnings.warn(missing_value_warning_msg, MissingValueWarning)\n"
     ]
    }
   ],
   "source": [
    "# Fit the second stage on numbers of visit\n",
    "IV_model_2 = IV2SLS(dependent = Joint['num_visit'],endog = Joint['Enrollment'],\\\n",
    "                  exog = sm.add_constant(Joint[\"numhh_list\"]),instruments=Joint['treatment'])\n",
    "R_2sls_2 = IV_model_2.fit()\n",
    "print(R_2sls_2)"
   ]
  },
  {
   "source": [
    "* Summary: From the first 2SLS regression results, we see that there is a postive causal relationship between the increasing in visit and the Medicaid coverage. And the second 2SLS gives an even concrete support that one unit increase in Medicaid coverage results in 34.5% of incresase in overall emergency department use. Taubman et.al s' conclusion have been confirmed."
   ],
   "cell_type": "markdown",
   "metadata": {}
  }
 ]
}